{
 "cells": [
  {
   "cell_type": "code",
   "execution_count": 2,
   "id": "6dc1f59d",
   "metadata": {},
   "outputs": [],
   "source": [
    "import pandas as pd"
   ]
  },
  {
   "cell_type": "code",
   "execution_count": 3,
   "id": "3f524bc2",
   "metadata": {},
   "outputs": [
    {
     "name": "stdout",
     "output_type": "stream",
     "text": [
      "<class 'pandas.core.frame.DataFrame'>\n",
      "RangeIndex: 96 entries, 0 to 95\n",
      "Data columns (total 46 columns):\n",
      " #   Column                                     Non-Null Count  Dtype  \n",
      "---  ------                                     --------------  -----  \n",
      " 0   DisNo.                                     96 non-null     object \n",
      " 1   Historic                                   96 non-null     object \n",
      " 2   Classification Key                         96 non-null     object \n",
      " 3   Disaster Group                             96 non-null     object \n",
      " 4   Disaster Subgroup                          96 non-null     object \n",
      " 5   Disaster Type                              96 non-null     object \n",
      " 6   Disaster Subtype                           96 non-null     object \n",
      " 7   External IDs                               3 non-null      object \n",
      " 8   Event Name                                 35 non-null     object \n",
      " 9   ISO                                        96 non-null     object \n",
      " 10  Country                                    96 non-null     object \n",
      " 11  Subregion                                  96 non-null     object \n",
      " 12  Region                                     96 non-null     object \n",
      " 13  Location                                   96 non-null     object \n",
      " 14  Origin                                     25 non-null     object \n",
      " 15  Associated Types                           12 non-null     object \n",
      " 16  OFDA/BHA Response                          96 non-null     object \n",
      " 17  Appeal                                     96 non-null     object \n",
      " 18  Declaration                                96 non-null     object \n",
      " 19  AID Contribution ('000 US$)                0 non-null      float64\n",
      " 20  Magnitude                                  34 non-null     float64\n",
      " 21  Magnitude Scale                            96 non-null     object \n",
      " 22  Latitude                                   0 non-null      float64\n",
      " 23  Longitude                                  0 non-null      float64\n",
      " 24  River Basin                                0 non-null      float64\n",
      " 25  Start Year                                 96 non-null     int64  \n",
      " 26  Start Month                                96 non-null     int64  \n",
      " 27  Start Day                                  80 non-null     float64\n",
      " 28  End Year                                   96 non-null     int64  \n",
      " 29  End Month                                  96 non-null     int64  \n",
      " 30  End Day                                    80 non-null     float64\n",
      " 31  Total Deaths                               47 non-null     float64\n",
      " 32  No. Injured                                31 non-null     float64\n",
      " 33  No. Affected                               50 non-null     float64\n",
      " 34  No. Homeless                               55 non-null     float64\n",
      " 35  Total Affected                             82 non-null     float64\n",
      " 36  Reconstruction Costs ('000 US$)            1 non-null      float64\n",
      " 37  Reconstruction Costs, Adjusted ('000 US$)  1 non-null      float64\n",
      " 38  Insured Damage ('000 US$)                  25 non-null     float64\n",
      " 39  Insured Damage, Adjusted ('000 US$)        23 non-null     float64\n",
      " 40  Total Damage ('000 US$)                    61 non-null     float64\n",
      " 41  Total Damage, Adjusted ('000 US$)          57 non-null     float64\n",
      " 42  CPI                                        88 non-null     float64\n",
      " 43  Admin Units                                87 non-null     object \n",
      " 44  Entry Date                                 96 non-null     object \n",
      " 45  Last Update                                96 non-null     object \n",
      "dtypes: float64(19), int64(4), object(23)\n",
      "memory usage: 34.6+ KB\n",
      "None\n"
     ]
    }
   ],
   "source": [
    "path = '../data/emdat/EM-DAT Data-Table 1.csv'\n",
    "north_america = pd.read_csv(path)\n",
    "\n",
    "#df.head(50)\n",
    "print(north_america.info())"
   ]
  },
  {
   "cell_type": "markdown",
   "id": "317ced1c",
   "metadata": {},
   "source": [
    "Don't forget to create Data dictionary"
   ]
  },
  {
   "cell_type": "code",
   "execution_count": null,
   "id": "c4ecfec4",
   "metadata": {},
   "outputs": [],
   "source": [
    "#check number of total Rows and Columns\n",
    "print(north_america.shape)\n",
    "\n",
    "#check Null data in the column\n",
    "print(north_america.isnull().sum())"
   ]
  },
  {
   "cell_type": "code",
   "execution_count": 5,
   "id": "9ddd8e77",
   "metadata": {},
   "outputs": [
    {
     "data": {
      "text/plain": [
       "External IDs\n",
       "<class 'float'>    93\n",
       "<class 'str'>       3\n",
       "Name: count, dtype: int64"
      ]
     },
     "execution_count": 5,
     "metadata": {},
     "output_type": "execute_result"
    }
   ],
   "source": [
    "#Check data type contained in the field\n",
    "north_america['External IDs'].apply(type).value_counts()"
   ]
  },
  {
   "cell_type": "code",
   "execution_count": null,
   "id": "8fc77a19",
   "metadata": {},
   "outputs": [],
   "source": [
    "print(north_america.isna().sum())"
   ]
  },
  {
   "cell_type": "markdown",
   "id": "196117a0",
   "metadata": {},
   "source": [
    "To do\n",
    "North America's Data from 2000 - 2024 from EM-DAT\n",
    "1. Look up data only Canada\n",
    "2. The highest damages\n",
    "    - What is cause of increasing damages compare to other areas? \n",
    "3. Cause of fire and geography\n",
    "    In case of different location and geography might has different cause of fire.\n",
    "    - The map will show the different colour of different geography.\n",
    "4. High risk area\n",
    "    - The map will show the gradian colour from low risk to high risk on Canada."
   ]
  },
  {
   "cell_type": "code",
   "execution_count": 16,
   "id": "6ebd3601",
   "metadata": {},
   "outputs": [
    {
     "name": "stdout",
     "output_type": "stream",
     "text": [
      "           DisNo. Historic Classification Key Disaster Group  \\\n",
      "8   2001-0340-CAN       No    nat-cli-wil-for        Natural   \n",
      "17  2002-0409-CAN       No    nat-cli-wil-for        Natural   \n",
      "21  2003-0369-CAN       No    nat-cli-wil-for        Natural   \n",
      "27  2005-0383-CAN       No    nat-cli-wil-for        Natural   \n",
      "28  2005-0460-CAN       No    nat-cli-wil-for        Natural   \n",
      "43  2011-0630-CAN       No    nat-cli-wil-for        Natural   \n",
      "53  2015-0275-CAN       No    nat-cli-wil-for        Natural   \n",
      "58  2016-0172-CAN       No    nat-cli-wil-for        Natural   \n",
      "64  2017-0271-CAN       No    nat-cli-wil-wil        Natural   \n",
      "68  2018-0299-CAN       No    nat-cli-wil-for        Natural   \n",
      "75  2021-0367-CAN       No    nat-cli-wil-wil        Natural   \n",
      "85  2023-0280-CAN       No    nat-cli-wil-for        Natural   \n",
      "89  2024-0288-CAN       No    nat-cli-wil-for        Natural   \n",
      "91  2024-0463-CAN       No    nat-cli-wil-wil        Natural   \n",
      "92  2024-0524-CAN       No    nat-cli-wil-wil        Natural   \n",
      "\n",
      "   Disaster Subgroup Disaster Type    Disaster Subtype          External IDs  \\\n",
      "8     Climatological      Wildfire         Forest fire                   NaN   \n",
      "17    Climatological      Wildfire         Forest fire                   NaN   \n",
      "21    Climatological      Wildfire         Forest fire                   NaN   \n",
      "27    Climatological      Wildfire         Forest fire                   NaN   \n",
      "28    Climatological      Wildfire         Forest fire                   NaN   \n",
      "43    Climatological      Wildfire         Forest fire                   NaN   \n",
      "53    Climatological      Wildfire         Forest fire                   NaN   \n",
      "58    Climatological      Wildfire         Forest fire                   NaN   \n",
      "64    Climatological      Wildfire  Wildfire (General)                   NaN   \n",
      "68    Climatological      Wildfire         Forest fire                   NaN   \n",
      "75    Climatological      Wildfire  Wildfire (General)                   NaN   \n",
      "85    Climatological      Wildfire         Forest fire  GLIDE:WF-2023-000074   \n",
      "89    Climatological      Wildfire         Forest fire                   NaN   \n",
      "91    Climatological      Wildfire  Wildfire (General)                   NaN   \n",
      "92    Climatological      Wildfire  Wildfire (General)                   NaN   \n",
      "\n",
      "                                  Event Name  ISO  ...  \\\n",
      "8                                        NaN  CAN  ...   \n",
      "17                                       NaN  CAN  ...   \n",
      "21                                       NaN  CAN  ...   \n",
      "27                                       NaN  CAN  ...   \n",
      "28                                       NaN  CAN  ...   \n",
      "43                                       NaN  CAN  ...   \n",
      "53                                       NaN  CAN  ...   \n",
      "58                   Fort McMurray wildfires  CAN  ...   \n",
      "64  Gustafsen, Wildwood, Elephant Hill Fires  CAN  ...   \n",
      "68                                       NaN  CAN  ...   \n",
      "75                                       NaN  CAN  ...   \n",
      "85                                       NaN  CAN  ...   \n",
      "89                                       NaN  CAN  ...   \n",
      "91                                       NaN  CAN  ...   \n",
      "92                       Jasper Complex Fire  CAN  ...   \n",
      "\n",
      "   Reconstruction Costs ('000 US$) Reconstruction Costs, Adjusted ('000 US$)  \\\n",
      "8                              NaN                                       NaN   \n",
      "17                             NaN                                       NaN   \n",
      "21                             NaN                                       NaN   \n",
      "27                             NaN                                       NaN   \n",
      "28                             NaN                                       NaN   \n",
      "43                             NaN                                       NaN   \n",
      "53                             NaN                                       NaN   \n",
      "58                             NaN                                       NaN   \n",
      "64                         78000.0                                   96960.0   \n",
      "68                             NaN                                       NaN   \n",
      "75                             NaN                                       NaN   \n",
      "85                             NaN                                       NaN   \n",
      "89                             NaN                                       NaN   \n",
      "91                             NaN                                       NaN   \n",
      "92                             NaN                                       NaN   \n",
      "\n",
      "   Insured Damage ('000 US$) Insured Damage, Adjusted ('000 US$)  \\\n",
      "8                        NaN                                 NaN   \n",
      "17                       NaN                                 NaN   \n",
      "21                  155000.0                            256736.0   \n",
      "27                       NaN                                 NaN   \n",
      "28                       NaN                                 NaN   \n",
      "43                  720000.0                            975309.0   \n",
      "53                       NaN                                 NaN   \n",
      "58                 2900000.0                           3681702.0   \n",
      "64                       NaN                                 NaN   \n",
      "68                       NaN                                 NaN   \n",
      "75                       NaN                                 NaN   \n",
      "85                  100000.0                            100000.0   \n",
      "89                       NaN                                 NaN   \n",
      "91                       NaN                                 NaN   \n",
      "92                  800000.0                                 NaN   \n",
      "\n",
      "   Total Damage ('000 US$) Total Damage, Adjusted ('000 US$)         CPI  \\\n",
      "8                      NaN                               NaN   58.111474   \n",
      "17                     NaN                               NaN   59.033144   \n",
      "21                545000.0                          902718.0   60.373251   \n",
      "27                     NaN                               NaN   64.092740   \n",
      "28                     NaN                               NaN   64.092740   \n",
      "43               1500000.0                         2031894.0   73.822751   \n",
      "53                     NaN                               NaN   77.786568   \n",
      "58               4000000.0                         5078209.0   78.767923   \n",
      "64                     NaN                               NaN   80.445779   \n",
      "68                     NaN                               NaN   82.410668   \n",
      "75                 80912.0                           90984.0   88.929493   \n",
      "85                200000.0                          200000.0  100.000000   \n",
      "89                     NaN                               NaN         NaN   \n",
      "91                     NaN                               NaN         NaN   \n",
      "92               1000000.0                               NaN         NaN   \n",
      "\n",
      "                                          Admin Units  Entry Date  Last Update  \n",
      "8           [{\"adm1_code\":825,\"adm1_name\":\"Alberta\"}]  2003-07-01   2023-09-25  \n",
      "17  [{\"adm2_code\":12739,\"adm2_name\":\"Lac-Saint-Jea...  2003-07-01   2023-09-25  \n",
      "21  [{\"adm1_code\":825,\"adm1_name\":\"Alberta\"},{\"adm...  2004-03-10   2023-09-25  \n",
      "27  [{\"adm1_code\":835,\"adm1_name\":\"Quebec / Québec\"}]  2005-07-19   2023-09-25  \n",
      "28          [{\"adm1_code\":833,\"adm1_name\":\"Ontario\"}]  2005-09-06   2023-09-25  \n",
      "43  [{\"adm2_code\":12536,\"adm2_name\":\"Division No. ...  2012-04-05   2023-09-25  \n",
      "53  [{\"adm1_code\":825,\"adm1_name\":\"Alberta\"},{\"adm...  2015-07-23   2025-03-17  \n",
      "58  [{\"adm2_code\":12535,\"adm2_name\":\"Division No. ...  2016-05-23   2023-09-25  \n",
      "64  [{\"adm2_code\":12542,\"adm2_name\":\"Cariboo\"},{\"a...  2017-07-18   2023-09-25  \n",
      "68  [{\"adm1_code\":826,\"adm1_name\":\"British Columbi...  2018-08-16   2023-09-25  \n",
      "75  [{\"adm1_code\":826,\"adm1_name\":\"British Columbi...  2021-07-01   2025-03-18  \n",
      "85  [{\"adm1_code\":825,\"adm1_name\":\"Alberta\"},{\"adm...  2023-05-08   2025-03-12  \n",
      "89                                                NaN  2024-05-13   2024-06-12  \n",
      "91                                                NaN  2024-07-11   2025-03-18  \n",
      "92                                                NaN  2024-07-25   2025-01-09  \n",
      "\n",
      "[15 rows x 46 columns]\n"
     ]
    }
   ],
   "source": [
    "data_can = north_america[north_america['Country']=='Canada']\n",
    "data_can.to_csv(\"../output/data_can.csv\", index=False)\n",
    "print(data_can.head(45))"
   ]
  }
 ],
 "metadata": {
  "kernelspec": {
   "display_name": "disaster",
   "language": "python",
   "name": "python3"
  },
  "language_info": {
   "codemirror_mode": {
    "name": "ipython",
    "version": 3
   },
   "file_extension": ".py",
   "mimetype": "text/x-python",
   "name": "python",
   "nbconvert_exporter": "python",
   "pygments_lexer": "ipython3",
   "version": "3.9.6"
  }
 },
 "nbformat": 4,
 "nbformat_minor": 5
}

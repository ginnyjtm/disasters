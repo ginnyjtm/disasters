{
 "cells": [
  {
   "cell_type": "code",
   "execution_count": 1,
   "id": "6dc1f59d",
   "metadata": {},
   "outputs": [],
   "source": [
    "import pandas as pd"
   ]
  },
  {
   "cell_type": "code",
   "execution_count": 20,
   "id": "3f524bc2",
   "metadata": {},
   "outputs": [
    {
     "name": "stdout",
     "output_type": "stream",
     "text": [
      "<class 'pandas.core.frame.DataFrame'>\n",
      "RangeIndex: 96 entries, 0 to 95\n",
      "Data columns (total 46 columns):\n",
      " #   Column                                     Non-Null Count  Dtype  \n",
      "---  ------                                     --------------  -----  \n",
      " 0   DisNo.                                     96 non-null     object \n",
      " 1   Historic                                   96 non-null     object \n",
      " 2   Classification Key                         96 non-null     object \n",
      " 3   Disaster Group                             96 non-null     object \n",
      " 4   Disaster Subgroup                          96 non-null     object \n",
      " 5   Disaster Type                              96 non-null     object \n",
      " 6   Disaster Subtype                           96 non-null     object \n",
      " 7   External IDs                               3 non-null      object \n",
      " 8   Event Name                                 35 non-null     object \n",
      " 9   ISO                                        96 non-null     object \n",
      " 10  Country                                    96 non-null     object \n",
      " 11  Subregion                                  96 non-null     object \n",
      " 12  Region                                     96 non-null     object \n",
      " 13  Location                                   96 non-null     object \n",
      " 14  Origin                                     25 non-null     object \n",
      " 15  Associated Types                           12 non-null     object \n",
      " 16  OFDA/BHA Response                          96 non-null     object \n",
      " 17  Appeal                                     96 non-null     object \n",
      " 18  Declaration                                96 non-null     object \n",
      " 19  AID Contribution ('000 US$)                0 non-null      float64\n",
      " 20  Magnitude                                  34 non-null     float64\n",
      " 21  Magnitude Scale                            96 non-null     object \n",
      " 22  Latitude                                   0 non-null      float64\n",
      " 23  Longitude                                  0 non-null      float64\n",
      " 24  River Basin                                0 non-null      float64\n",
      " 25  Start Year                                 96 non-null     int64  \n",
      " 26  Start Month                                96 non-null     int64  \n",
      " 27  Start Day                                  80 non-null     float64\n",
      " 28  End Year                                   96 non-null     int64  \n",
      " 29  End Month                                  96 non-null     int64  \n",
      " 30  End Day                                    80 non-null     float64\n",
      " 31  Total Deaths                               47 non-null     float64\n",
      " 32  No. Injured                                31 non-null     float64\n",
      " 33  No. Affected                               50 non-null     float64\n",
      " 34  No. Homeless                               55 non-null     float64\n",
      " 35  Total Affected                             82 non-null     float64\n",
      " 36  Reconstruction Costs ('000 US$)            1 non-null      float64\n",
      " 37  Reconstruction Costs, Adjusted ('000 US$)  1 non-null      float64\n",
      " 38  Insured Damage ('000 US$)                  25 non-null     float64\n",
      " 39  Insured Damage, Adjusted ('000 US$)        23 non-null     float64\n",
      " 40  Total Damage ('000 US$)                    61 non-null     float64\n",
      " 41  Total Damage, Adjusted ('000 US$)          57 non-null     float64\n",
      " 42  CPI                                        88 non-null     float64\n",
      " 43  Admin Units                                87 non-null     object \n",
      " 44  Entry Date                                 96 non-null     object \n",
      " 45  Last Update                                96 non-null     object \n",
      "dtypes: float64(19), int64(4), object(23)\n",
      "memory usage: 34.6+ KB\n",
      "None\n"
     ]
    }
   ],
   "source": [
    "path = '../data/emdat/EM-DAT Data-Table 1.csv'\n",
    "df = pd.read_csv(path)\n",
    "\n",
    "#df.head(50)\n",
    "print(df.info())"
   ]
  },
  {
   "cell_type": "markdown",
   "id": "317ced1c",
   "metadata": {},
   "source": [
    "Don't forget to create Data dictionary"
   ]
  },
  {
   "cell_type": "code",
   "execution_count": null,
   "id": "c4ecfec4",
   "metadata": {},
   "outputs": [],
   "source": [
    "#check number of total Rows and Columns\n",
    "print(df.shape)\n",
    "\n",
    "#check Null data in the column\n",
    "print(df.isnull().sum())"
   ]
  },
  {
   "cell_type": "code",
   "execution_count": null,
   "id": "9ddd8e77",
   "metadata": {},
   "outputs": [
    {
     "data": {
      "text/plain": [
       "External IDs\n",
       "<class 'float'>    93\n",
       "<class 'str'>       3\n",
       "Name: count, dtype: int64"
      ]
     },
     "execution_count": 22,
     "metadata": {},
     "output_type": "execute_result"
    }
   ],
   "source": [
    "#Check data type contained in the field\n",
    "df['External IDs'].apply(type).value_counts()"
   ]
  },
  {
   "cell_type": "code",
   "execution_count": null,
   "id": "8fc77a19",
   "metadata": {},
   "outputs": [],
   "source": [
    "print(df.isna().sum())"
   ]
  },
  {
   "cell_type": "markdown",
   "id": "196117a0",
   "metadata": {},
   "source": [
    "To do\n",
    "North America's Data from 2000 - 2024 from EM-DAT\n",
    "1. Look up data only Canada\n",
    "2. The highest damages\n",
    "    - What is cause of increasing damages compare to other areas? \n",
    "3. Cause of fire and geography\n",
    "    In case of different location and geography might has different cause of fire.\n",
    "    - The map will show the different colour of different geography.\n",
    "4. High risk area\n",
    "    - The map will show the gradian colour from low risk to high risk on Canada."
   ]
  }
 ],
 "metadata": {
  "kernelspec": {
   "display_name": "disaster",
   "language": "python",
   "name": "python3"
  },
  "language_info": {
   "codemirror_mode": {
    "name": "ipython",
    "version": 3
   },
   "file_extension": ".py",
   "mimetype": "text/x-python",
   "name": "python",
   "nbconvert_exporter": "python",
   "pygments_lexer": "ipython3",
   "version": "3.9.6"
  }
 },
 "nbformat": 4,
 "nbformat_minor": 5
}

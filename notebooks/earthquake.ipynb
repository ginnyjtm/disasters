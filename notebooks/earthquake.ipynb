{
 "cells": [
  {
   "cell_type": "markdown",
   "metadata": {},
   "source": [
    "Extrac Geometry data for creating map in Tebleau."
   ]
  },
  {
   "cell_type": "code",
   "execution_count": 1,
   "metadata": {},
   "outputs": [],
   "source": [
    "import json\n",
    "import pandas as pd"
   ]
  },
  {
   "cell_type": "code",
   "execution_count": 2,
   "metadata": {},
   "outputs": [],
   "source": [
    "# Load JSON data: 10 yeras(2015-01-01 - 2025-03-01) of 6+ magnitude earthquakes around the world.\n",
    "with open(\"../data/6ml_world.json\") as f:\n",
    "    data = json.load(f)\n",
    "\n",
    "# Extract relevant fields\n",
    "earthquakes = []\n",
    "for feature in data[\"features\"]:\n",
    "    properties = feature[\"properties\"]\n",
    "    coordinates = feature[\"geometry\"][\"coordinates\"]\n",
    "    \n",
    "    earthquakes.append({\n",
    "        \"Longitude\": coordinates[0],\n",
    "        \"Latitude\": coordinates[1],\n",
    "        \"Depth\": coordinates[2],\n",
    "        \"Magnitude\": properties[\"mag\"],\n",
    "        \"Location\": properties[\"place\"],\n",
    "        \"Time\": pd.to_datetime(properties[\"time\"], unit='ms'),  # Convert Unix timestamp\n",
    "        \"URL\": properties[\"url\"]\n",
    "    })\n",
    "\n",
    "# Convert to DataFrame and save to CSV\n",
    "df = pd.DataFrame(earthquakes)\n",
    "df.to_csv(\"../output/6ml_world_geometry.csv\", index=False)"
   ]
  }
 ],
 "metadata": {
  "kernelspec": {
   "display_name": "disaster",
   "language": "python",
   "name": "python3"
  },
  "language_info": {
   "codemirror_mode": {
    "name": "ipython",
    "version": 3
   },
   "file_extension": ".py",
   "mimetype": "text/x-python",
   "name": "python",
   "nbconvert_exporter": "python",
   "pygments_lexer": "ipython3",
   "version": "3.9.6"
  }
 },
 "nbformat": 4,
 "nbformat_minor": 2
}
